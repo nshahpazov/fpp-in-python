{
 "cells": [
  {
   "cell_type": "code",
   "execution_count": 4,
   "metadata": {},
   "outputs": [
    {
     "name": "stdout",
     "output_type": "stream",
     "text": [
      "Requirement already satisfied: holidays in /usr/local/Caskroom/miniconda/base/envs/fpp/lib/python3.9/site-packages (0.13)\n",
      "Requirement already satisfied: convertdate>=2.3.0 in /usr/local/Caskroom/miniconda/base/envs/fpp/lib/python3.9/site-packages (from holidays) (2.4.0)\n",
      "Requirement already satisfied: hijri-converter in /usr/local/Caskroom/miniconda/base/envs/fpp/lib/python3.9/site-packages (from holidays) (2.2.3)\n",
      "Requirement already satisfied: korean-lunar-calendar in /usr/local/Caskroom/miniconda/base/envs/fpp/lib/python3.9/site-packages (from holidays) (0.2.1)\n",
      "Requirement already satisfied: python-dateutil in /usr/local/Caskroom/miniconda/base/envs/fpp/lib/python3.9/site-packages (from holidays) (2.8.2)\n",
      "Requirement already satisfied: pymeeus<=1,>=0.3.13 in /usr/local/Caskroom/miniconda/base/envs/fpp/lib/python3.9/site-packages (from convertdate>=2.3.0->holidays) (0.5.11)\n",
      "Requirement already satisfied: six>=1.5 in /usr/local/Caskroom/miniconda/base/envs/fpp/lib/python3.9/site-packages (from python-dateutil->holidays) (1.16.0)\n",
      "Requirement already satisfied: py-tsdata in /usr/local/Caskroom/miniconda/base/envs/fpp/lib/python3.9/site-packages (0.3.4)\n",
      "Requirement already satisfied: pandas in /usr/local/Caskroom/miniconda/base/envs/fpp/lib/python3.9/site-packages (from py-tsdata) (1.3.5)\n",
      "Requirement already satisfied: python-dateutil>=2.7.3 in /usr/local/Caskroom/miniconda/base/envs/fpp/lib/python3.9/site-packages (from pandas->py-tsdata) (2.8.2)\n",
      "Requirement already satisfied: pytz>=2017.3 in /usr/local/Caskroom/miniconda/base/envs/fpp/lib/python3.9/site-packages (from pandas->py-tsdata) (2021.3)\n",
      "Requirement already satisfied: numpy>=1.17.3 in /usr/local/Caskroom/miniconda/base/envs/fpp/lib/python3.9/site-packages (from pandas->py-tsdata) (1.21.2)\n",
      "Requirement already satisfied: six>=1.5 in /usr/local/Caskroom/miniconda/base/envs/fpp/lib/python3.9/site-packages (from python-dateutil>=2.7.3->pandas->py-tsdata) (1.16.0)\n"
     ]
    }
   ],
   "source": [
    "!pip install holidays\n",
    "!pip install py-tsdata"
   ]
  },
  {
   "cell_type": "code",
   "execution_count": 5,
   "metadata": {},
   "outputs": [],
   "source": [
    "from tsdata.raw import load_data\n",
    "import pandas as pd\n",
    "import matplotlib.pyplot as plt\n",
    "\n",
    "import holidays\n",
    "\n",
    "# sktime functionaliy\n",
    "from sktime.forecasting.arima import  AutoARIMA\n",
    "from sktime.forecasting.base import ForecastingHorizon\n",
    "\n",
    "from sktime.forecasting.model_selection import temporal_train_test_split\n",
    "\n",
    "from sklearn.preprocessing import  OneHotEncoder, StandardScaler, PolynomialFeatures\n",
    "\n",
    "# from sklearn.compose import ColumnTransformer\n",
    "from sktime.transformations.panel.compose import ColumnTransformer\n",
    "from sklearn.pipeline import Pipeline\n",
    "from tsdata.raw import  load_data\n",
    "from sklearn.preprocessing import FunctionTransformer\n",
    "\n",
    "\n",
    "# set style of plots\n",
    "plt.style.use('Solarize_Light2')"
   ]
  },
  {
   "cell_type": "markdown",
   "metadata": {},
   "source": [
    "### 2. Prepare the data"
   ]
  },
  {
   "cell_type": "code",
   "execution_count": 6,
   "metadata": {},
   "outputs": [
    {
     "data": {
      "text/html": [
       "<div>\n",
       "<style scoped>\n",
       "    .dataframe tbody tr th:only-of-type {\n",
       "        vertical-align: middle;\n",
       "    }\n",
       "\n",
       "    .dataframe tbody tr th {\n",
       "        vertical-align: top;\n",
       "    }\n",
       "\n",
       "    .dataframe thead th {\n",
       "        text-align: right;\n",
       "    }\n",
       "</style>\n",
       "<table border=\"1\" class=\"dataframe\">\n",
       "  <thead>\n",
       "    <tr style=\"text-align: right;\">\n",
       "      <th></th>\n",
       "      <th>Demand</th>\n",
       "      <th>Temperature</th>\n",
       "      <th>day_type</th>\n",
       "    </tr>\n",
       "  </thead>\n",
       "  <tbody>\n",
       "    <tr>\n",
       "      <th>2014-01-01</th>\n",
       "      <td>179.453794</td>\n",
       "      <td>26.0</td>\n",
       "      <td>Holiday</td>\n",
       "    </tr>\n",
       "    <tr>\n",
       "      <th>2014-01-02</th>\n",
       "      <td>190.778816</td>\n",
       "      <td>23.0</td>\n",
       "      <td>Weekday</td>\n",
       "    </tr>\n",
       "    <tr>\n",
       "      <th>2014-01-03</th>\n",
       "      <td>182.892121</td>\n",
       "      <td>22.2</td>\n",
       "      <td>Weekday</td>\n",
       "    </tr>\n",
       "  </tbody>\n",
       "</table>\n",
       "</div>"
      ],
      "text/plain": [
       "                Demand  Temperature day_type\n",
       "2014-01-01  179.453794         26.0  Holiday\n",
       "2014-01-02  190.778816         23.0  Weekday\n",
       "2014-01-03  182.892121         22.2  Weekday"
      ]
     },
     "execution_count": 6,
     "metadata": {},
     "output_type": "execute_result"
    }
   ],
   "source": [
    "# Select country\n",
    "victoria_holidays = holidays.AUS(subdiv='VIC')\n",
    "\n",
    "vic_elec_df = (load_data(\"vic_elec\")\n",
    " .assign(Time=lambda df: pd.to_datetime(df.Time))\n",
    ")\n",
    "\n",
    "victoria_electricity_2014 = vic_elec_df[\n",
    "    vic_elec_df.Time.dt.year == 2014\n",
    "]\n",
    "\n",
    "victoria_electricity_2014 = (victoria_electricity_2014\n",
    " .groupby([victoria_electricity_2014.Time.dt.date])\n",
    "# .groupby('Time')\n",
    " .agg({'Demand': 'sum', 'Temperature': 'max'})\n",
    " .assign(\n",
    "     Demand=lambda df: df.Demand / 1e3,\n",
    "     Time=lambda df: pd.to_datetime(df.index)\n",
    " )\n",
    " .assign(\n",
    "     # assign whether its weekend or holiday\n",
    "     day_type=lambda df: df.Time.apply(\n",
    "         lambda time: 'Holiday' if time in victoria_holidays else\n",
    "                      'Weekend' if time.weekday() > 4 else\n",
    "                      'Weekday'\n",
    "     )\n",
    " )\n",
    " # turn the day type to categorical\n",
    " .assign(day_type=lambda df: pd.Categorical(df.day_type))\n",
    " .set_index('Time')\n",
    ")\n",
    "\n",
    "start_date = min(victoria_electricity_2014.index)\n",
    "end_date = max(victoria_electricity_2014.index)\n",
    "victoria_electricity_2014 = victoria_electricity_2014.reindex(\n",
    "    pd.date_range(start=start_date, end=end_date, freq='D')\n",
    ")\n",
    "victoria_electricity_2014.head(3)"
   ]
  },
  {
   "cell_type": "code",
   "execution_count": null,
   "metadata": {},
   "outputs": [],
   "source": [
    "# just rename for now\n",
    "y_train, y_test, X_train, X_test = temporal_train_test_split(\n",
    "    victoria_electricity_2014.Demand,\n",
    "    victoria_electricity_2014[['Temperature', 'day_type']]\n",
    ")\n",
    "\n",
    "# create forecast horizon\n",
    "fh = ForecastingHorizon(y_test.index, is_relative=False)\n",
    "\n",
    "numerical_transformer = Pipeline([\n",
    "    (\"scaler\", StandardScaler()),\n",
    "    ('polynomization', PolynomialFeatures(include_bias=False))\n",
    "])\n",
    "\n",
    "preprocessor = ColumnTransformer(\n",
    "    transformers=[\n",
    "        (\"categorical\", OneHotEncoder(sparse=False), ['day_type']),\n",
    "        (\"numerical\", numerical_transformer, ['Temperature'])\n",
    "    ]\n",
    ")\n",
    "\n",
    "# pipeline with the preprocessing and attaching of names and index afterwards\n",
    "pipeline = Pipeline(steps=[\n",
    "    ('preprocessor', preprocessor),\n",
    "    ('lambda', FunctionTransformer(func=lambda X: pd.DataFrame(\n",
    "        X,\n",
    "        columns=preprocessor.get_feature_names_out(),\n",
    "        # this has to be dynamic according to what is given, if we apply the transformation to another\n",
    "        # dataframe it will not work\n",
    "        # AUTO ARIMA requires an index\n",
    "        index=X_train.index\n",
    "    ), validate=False))\n",
    "])\n",
    "\n",
    "# Transform the data in a separate transformer\n",
    "# For now, I couldn't do it using a ForecastingPipeline\n",
    "X_train_transformed = pipeline.fit_transform(X=X_train, y=y_train)\n",
    "\n",
    "forecaster = AutoARIMA()\n",
    "forecaster.fit(y_train, X=X_train_transformed)\n",
    "# auto_arima_forecaster.fit(y=y_train, X=X_train)"
   ]
  },
  {
   "cell_type": "markdown",
   "metadata": {},
   "source": [
    "### What I would like to have (everything in one ForecastingPipeline)"
   ]
  },
  {
   "cell_type": "code",
   "execution_count": null,
   "metadata": {},
   "outputs": [],
   "source": [
    "# auto_arima_forecaster = ForecastingPipeline(\n",
    "#     steps=[\n",
    "#         ('pipe', pipeline),\n",
    "#         ('tabularize', Tabularizer()),\n",
    "#         (\"forecaster\", AutoARIMA(suppress_warnings=True))\n",
    "#     ]\n",
    "# )"
   ]
  }
 ],
 "metadata": {
  "interpreter": {
   "hash": "fb389df0c04a3066bd7c0461c6150370a74839d239c072265f5ca5baee593ef7"
  },
  "kernelspec": {
   "display_name": "Python 3.9.2 ('fpp')",
   "language": "python",
   "name": "python3"
  },
  "language_info": {
   "codemirror_mode": {
    "name": "ipython",
    "version": 3
   },
   "file_extension": ".py",
   "mimetype": "text/x-python",
   "name": "python",
   "nbconvert_exporter": "python",
   "pygments_lexer": "ipython3",
   "version": "3.9.2"
  },
  "orig_nbformat": 4
 },
 "nbformat": 4,
 "nbformat_minor": 2
}
