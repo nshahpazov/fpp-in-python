{
  "nbformat": 4,
  "nbformat_minor": 0,
  "metadata": {
    "colab": {
      "name": "Topic-5.ipynb",
      "provenance": [],
      "collapsed_sections": [],
      "authorship_tag": "ABX9TyPcgAQFgeGHZQWa+4KgD1Md",
      "include_colab_link": true
    },
    "kernelspec": {
      "name": "python3",
      "display_name": "Python 3"
    },
    "language_info": {
      "name": "python"
    }
  },
  "cells": [
    {
      "cell_type": "markdown",
      "metadata": {
        "id": "view-in-github",
        "colab_type": "text"
      },
      "source": [
        "<a href=\"https://colab.research.google.com/github/Anatoly-Makarevich/time-series-mentoring/blob/master/5_Classic_Multivariate/Topic_5.ipynb\" target=\"_parent\"><img src=\"https://colab.research.google.com/assets/colab-badge.svg\" alt=\"Open In Colab\"/></a>"
      ]
    },
    {
      "cell_type": "markdown",
      "source": [
        "# Topic 5 - Classical Multivariate Forecasting\n",
        "\n",
        "## Overview\n",
        "\n",
        "This topic covers the classical statistical regression models with exogenous variables\n",
        "(in the time series context, it's called \"dynamic regression\") and vector autoregressive\n",
        "processes (VAR).\n",
        "\n",
        "## Learning Materials\n",
        "\n",
        "1. FPP3 [Chapter 10 - Dynamic Regression](https://otexts.com/fpp3/dynamic.html).\n",
        "\n",
        "2. FPP3 [Section 12.3 - VAR](https://otexts.com/fpp3/VAR.html).\n",
        "\n",
        "3. Read this [Statsmodels VAR notebook](https://www.statsmodels.org/dev/vector_ar.html).\n",
        "\n",
        "4. (Bonus/TODO) Read about Granger causality and VECM.\n",
        "\n",
        "## Tasks\n",
        "\n",
        "Complete the following tasks with 2 datasets: stock price/volume, and a country's GDP/GNP/unemployment.\n",
        "\n",
        "**Stocks**: Use a dataset including stock prices and volumes, e.g. [one of these](https://github.com/antoinecarme/TimeSeriesData/tree/master/YahooFinance) or [one of these](https://www.kaggle.com/meetnagadia/stock-price-of-top-10-smartphone-company-20162021).\n",
        "\n",
        "**Economy**: Use `global_economy` from `py-tsdata`, or directly from\n",
        "[here](https://github.com/NowanIlfideme/tsdata/raw/main/src/tsdata/raw/fpp3/global_economy.csv).\n",
        "Select any country with reasonable data quality and quantity.\n",
        "\n",
        "When building the models, make sure to use a validation split. Also, try out different sets of variables in both cases.\n",
        "\n",
        "1. Build and analyze a dynamic regression model, including residual diagnostics.\n",
        "\n",
        "2. Use Prophet instead of a dynamic linear regression.\n",
        "\n",
        "3. Model several series with a VAR model, with the same setup. How many series does it make sense to model?\n",
        "\n",
        "4. Compare behavior, errors, coefficients. How best to compare these models?\n",
        "   Which model makes sense to use for each dataset?\n"
      ],
      "metadata": {
        "id": "BiNuTdcBjOyu"
      }
    },
    {
      "cell_type": "code",
      "execution_count": null,
      "metadata": {
        "id": "O12FTvLujMNh"
      },
      "outputs": [],
      "source": [
        ""
      ]
    }
  ]
}