{
 "cells": [
  {
   "cell_type": "code",
   "execution_count": 1,
   "metadata": {},
   "outputs": [
    {
     "ename": "SyntaxError",
     "evalue": "invalid syntax (1468225145.py, line 3)",
     "output_type": "error",
     "traceback": [
      "\u001b[0;36m  Input \u001b[0;32mIn [1]\u001b[0;36m\u001b[0m\n\u001b[0;31m    with dvc.api.open(\"dvc-data/data.xml\")\u001b[0m\n\u001b[0m                                          ^\u001b[0m\n\u001b[0;31mSyntaxError\u001b[0m\u001b[0;31m:\u001b[0m invalid syntax\n"
     ]
    }
   ],
   "source": [
    "import dvc.api\n",
    "\n",
    "with dvc.api.open(\n",
    "    \"dvc-data/data.xml\",\n",
    "    repo=\"https://github.com/nshahpazov/fpp-in-python\"\n",
    ") as fd:\n",
    "    fd.read()"
   ]
  }
 ],
 "metadata": {
  "interpreter": {
   "hash": "fb389df0c04a3066bd7c0461c6150370a74839d239c072265f5ca5baee593ef7"
  },
  "kernelspec": {
   "display_name": "Python 3.9.2 ('fpp')",
   "language": "python",
   "name": "python3"
  },
  "language_info": {
   "codemirror_mode": {
    "name": "ipython",
    "version": 3
   },
   "file_extension": ".py",
   "mimetype": "text/x-python",
   "name": "python",
   "nbconvert_exporter": "python",
   "pygments_lexer": "ipython3",
   "version": "3.9.2"
  },
  "orig_nbformat": 4
 },
 "nbformat": 4,
 "nbformat_minor": 2
}
