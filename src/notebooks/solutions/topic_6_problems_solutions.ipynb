{
 "cells": [
  {
   "cell_type": "code",
   "execution_count": null,
   "metadata": {},
   "outputs": [],
   "source": []
  }
 ],
 "metadata": {
  "interpreter": {
   "hash": "fb389df0c04a3066bd7c0461c6150370a74839d239c072265f5ca5baee593ef7"
  },
  "kernelspec": {
   "display_name": "Python 3.9.2 ('fpp')",
   "language": "python",
   "name": "python3"
  },
  "language_info": {
   "name": "python",
   "version": "3.9.2"
  },
  "orig_nbformat": 4
 },
 "nbformat": 4,
 "nbformat_minor": 2
}
