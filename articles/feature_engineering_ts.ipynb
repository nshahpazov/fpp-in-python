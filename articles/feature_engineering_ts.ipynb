{
 "cells": [
  {
   "cell_type": "markdown",
   "metadata": {},
   "source": [
    "# **Feature Engineering on Time Series Data for Classification**"
   ]
  },
  {
   "cell_type": "code",
   "execution_count": 71,
   "metadata": {},
   "outputs": [
    {
     "data": {
      "text/html": [
       "<div>\n",
       "<style scoped>\n",
       "    .dataframe tbody tr th:only-of-type {\n",
       "        vertical-align: middle;\n",
       "    }\n",
       "\n",
       "    .dataframe tbody tr th {\n",
       "        vertical-align: top;\n",
       "    }\n",
       "\n",
       "    .dataframe thead th {\n",
       "        text-align: right;\n",
       "    }\n",
       "</style>\n",
       "<table border=\"1\" class=\"dataframe\">\n",
       "  <thead>\n",
       "    <tr style=\"text-align: right;\">\n",
       "      <th></th>\n",
       "      <th>user</th>\n",
       "      <th>activity</th>\n",
       "      <th>timestamp</th>\n",
       "      <th>x</th>\n",
       "      <th>y</th>\n",
       "      <th>z</th>\n",
       "    </tr>\n",
       "  </thead>\n",
       "  <tbody>\n",
       "    <tr>\n",
       "      <th>0</th>\n",
       "      <td>1</td>\n",
       "      <td>Walking</td>\n",
       "      <td>4991922345000</td>\n",
       "      <td>0.69</td>\n",
       "      <td>10.80</td>\n",
       "      <td>-2.03</td>\n",
       "    </tr>\n",
       "    <tr>\n",
       "      <th>1</th>\n",
       "      <td>1</td>\n",
       "      <td>Walking</td>\n",
       "      <td>4991972333000</td>\n",
       "      <td>6.85</td>\n",
       "      <td>7.44</td>\n",
       "      <td>-0.50</td>\n",
       "    </tr>\n",
       "    <tr>\n",
       "      <th>2</th>\n",
       "      <td>1</td>\n",
       "      <td>Walking</td>\n",
       "      <td>4992022351000</td>\n",
       "      <td>0.93</td>\n",
       "      <td>5.63</td>\n",
       "      <td>-0.50</td>\n",
       "    </tr>\n",
       "  </tbody>\n",
       "</table>\n",
       "</div>"
      ],
      "text/plain": [
       "   user activity      timestamp     x      y     z\n",
       "0     1  Walking  4991922345000  0.69  10.80 -2.03\n",
       "1     1  Walking  4991972333000  6.85   7.44 -0.50\n",
       "2     1  Walking  4992022351000  0.93   5.63 -0.50"
      ]
     },
     "execution_count": 71,
     "metadata": {},
     "output_type": "execute_result"
    }
   ],
   "source": [
    "%matplotlib inline\n",
    "import numpy as np \n",
    "import pandas as pd\n",
    "import matplotlib.pyplot as plt\n",
    "import seaborn as sns\n",
    "from scipy import stats\n",
    "from scipy.signal import find_peaks\n",
    "import warnings\n",
    "\n",
    "from functools import reduce\n",
    "from operator import add\n",
    "from numpy.lib.stride_tricks import sliding_window_view\n",
    "\n",
    "from plotnine import ggplot, geom_bar, aes, theme\n",
    "\n",
    "warnings.filterwarnings('ignore')\n",
    "\n",
    "# constants\n",
    "ACTIVITY_FILEPATH = './data/wisdm/WISDM_ar_v1.1_raw.txt'\n",
    "ACTIVITIES = ['Walking', 'Jogging', 'Upstairs', 'Downstairs', 'Sitting', 'Standing']\n",
    "COLUMNS = ['user','activity', 'timestamp', 'x-axis', 'y-axis', 'z-axis']\n",
    "\n",
    "# reading raw data file\n",
    "activity_df = pd.read_csv(ACTIVITY_FILEPATH, header = None, names = COLUMNS)\n",
    "\n",
    "# removing null values\n",
    "activity_df = activity_df.dropna()\n",
    "activity_df.shape\n",
    "\n",
    "# transforming the z-axis to float\n",
    "activity_df['z-axis'] = activity_df['z-axis'].str.replace(';', '')\n",
    "activity_df['z-axis'] = activity_df['z-axis'].apply(lambda x:float(x))\n",
    "\n",
    "# drop the rows where timestamp is 0\n",
    "df = activity_df[activity_df['timestamp'] != 0]\n",
    "\n",
    "# now arrange data in ascending order of the user and timestamp\n",
    "df = (df\n",
    " .sort_values(by=['user', 'timestamp'], ignore_index=True)\n",
    " .rename(columns={'x-axis': 'x', 'y-axis': 'y', 'z-axis': 'z'}))\n",
    "\n",
    "df.head(3)"
   ]
  },
  {
   "cell_type": "code",
   "execution_count": 30,
   "metadata": {},
   "outputs": [
    {
     "data": {
      "image/png": "[encoded data removed]",
      "text/plain": [
       "<Figure size 2200x600 with 1 Axes>"
      ]
     },
     "metadata": {},
     "output_type": "display_data"
    },
    {
     "data": {
      "text/plain": [
       "<ggplot: (8783854320017)>"
      ]
     },
     "execution_count": 30,
     "metadata": {},
     "output_type": "execute_result"
    }
   ],
   "source": [
    "(ggplot(df) +\n",
    "    aes(x='user', fill='activity') +\n",
    "    geom_bar(stat='count') +\n",
    "    theme(figure_size=(22, 6))\n",
    ")"
   ]
  },
  {
   "cell_type": "markdown",
   "metadata": {},
   "source": [
    "For a particular user, lets observe how the signal values in each of the x, y and z dimension varies with time.\n"
   ]
  },
  {
   "cell_type": "code",
   "execution_count": null,
   "metadata": {},
   "outputs": [],
   "source": [
    "for activity in ACTIVITIES:\n",
    "  data_36 = df[(df['user'] == 36) & (df['activity'] == activity)][:400]\n",
    "  plt.figure(figsize = (15, 6))\n",
    "  sns.lineplot(y = 'x', x = 'timestamp', data = data_36)\n",
    "  sns.lineplot(y = 'y', x = 'timestamp', data = data_36)\n",
    "  sns.lineplot(y = 'z', x = 'timestamp', data = data_36)\n",
    "\n",
    "  plt.legend(['x', 'y', 'z'])\n",
    "  plt.ylabel(activity)\n",
    "  plt.title(activity, fontsize = 15)\n",
    "  plt.show()"
   ]
  },
  {
   "cell_type": "markdown",
   "metadata": {},
   "source": [
    "In all cases, the data is collected every 50 millisecond, that is 20 samples per second.\n"
   ]
  },
  {
   "cell_type": "markdown",
   "metadata": {},
   "source": [
    "### **Split data to train and test**"
   ]
  },
  {
   "cell_type": "code",
   "execution_count": 112,
   "metadata": {},
   "outputs": [],
   "source": [
    "df_train = df[df['user'] <= 27]\n",
    "df_test = df[df['user'] > 27]"
   ]
  },
  {
   "cell_type": "markdown",
   "metadata": {},
   "source": [
    "### **Feature Engineering Stage 1: Statistical measures**"
   ]
  },
  {
   "cell_type": "code",
   "execution_count": 119,
   "metadata": {},
   "outputs": [],
   "source": [
    "aggregations = {\n",
    "    'mean': lambda x: x.mean(),\n",
    "    'std': lambda x: x.std(),\n",
    "    'median': lambda x: np.median(x),\n",
    "    'aad': lambda x: np.mean(np.absolute(x - np.mean(x))),\n",
    "    'min': lambda x: np.min(x),\n",
    "    'max': lambda x: np.max(x),\n",
    "    'ptp': lambda x: np.ptp(x),\n",
    "    'mad': lambda x: np.median(np.absolute(x - np.median(x))),\n",
    "    'iqr': lambda x: np.percentile(x, 75) - np.percentile(x, 25),\n",
    "    'neg_count':lambda x: np.sum(x < 0),\n",
    "    'pos_count': lambda x: np.sum(x > 0),\n",
    "    'above_mean': lambda x: np.sum(x > np.mean(x)),\n",
    "    'peak_count': lambda x: len(find_peaks(np.array(x))[0]),\n",
    "    'skewness': lambda x: stats.skew(x),\n",
    "    'kurtosis': lambda x: stats.kurtosis(x),\n",
    "    'energy': lambda x: np.sum(x**2) / 100\n",
    "}\n",
    "\n",
    "def apply_aggregations(aggregations, df, window=100, step=50, signal_processing=lambda x: x):\n",
    "    # generate a dictionary of lists of windowed partitions for each of the dimensions x, y and z\n",
    "    lists_dict = {\n",
    "        k: list(sliding_window_view(df[k], window)[::step, :])\n",
    "        for k in ['x', 'y', 'z']\n",
    "    }\n",
    "\n",
    "    # turn the above dictionary of lists to a dicitonary of series\n",
    "    series_dict = {\n",
    "        k: pd.Series(l).apply(signal_processing) for k, l in lists_dict.items()\n",
    "    }\n",
    "\n",
    "    # apply a dictionary comprehension iterating through all series and all aggregations\n",
    "    single_axis_transformations = {\n",
    "        f'{axis}_{aggregation_name}': l.apply(aggregation)\n",
    "        for axis, l in series_dict.items()\n",
    "        for aggregation_name, aggregation in aggregations.items()\n",
    "    }\n",
    "\n",
    "    # using all of the axes for a transformation\n",
    "    squared_axes = [l**2 for l in series_dict.values()]\n",
    "    sum_absed = [l.apply(lambda x: np.sum(abs(x)/100)) for l in series_dict.values()]\n",
    "\n",
    "    # a dictionary of transformations using all of the axes in the same time\n",
    "    all_axis_aggregations = {\n",
    "        'avg_result': reduce(add, squared_axes).apply(np.mean),\n",
    "        'sma': reduce(add, sum_absed)\n",
    "    }\n",
    "    # apply each aggregation to each of the axes\n",
    "    return pd.DataFrame(single_axis_transformations | all_axis_aggregations)\n"
   ]
  },
  {
   "cell_type": "code",
   "execution_count": 120,
   "metadata": {},
   "outputs": [],
   "source": [
    "window = 100\n",
    "step = 50\n",
    "\n",
    "def extract_window_label_modes(y):\n",
    "    y_windows = sliding_window_view(y, window)[::step, :]\n",
    "    modes = [stats.mode(window)[0][0] for window in y_windows]\n",
    "    return np.array(modes)\n",
    "\n",
    "\n",
    "X_train = apply_aggregations(aggregations, df_train, window=window, step=step)\n",
    "y_train = extract_window_label_modes(df_train['activity'])"
   ]
  },
  {
   "cell_type": "code",
   "execution_count": 121,
   "metadata": {},
   "outputs": [],
   "source": [
    "X_test = apply_aggregations(aggregations, df_test)\n",
    "y_test = extract_window_label_modes(df_test['activity'])"
   ]
  },
  {
   "cell_type": "markdown",
   "metadata": {},
   "source": [
    "### **Stage 2: Apply Fast Fourier Transform**"
   ]
  },
  {
   "cell_type": "code",
   "execution_count": 98,
   "metadata": {},
   "outputs": [],
   "source": [
    "X_train_fft = apply_aggregations(\n",
    "    aggregations,\n",
    "    df_train,\n",
    "    signal_processing=lambda x: np.abs(np.fft.fft(x))[1::]\n",
    ").add_suffix(\"_fft\")\n",
    "\n",
    "X_train_all = pd.concat([X_train, X_train_fft], axis=1)"
   ]
  },
  {
   "cell_type": "markdown",
   "metadata": {},
   "source": [
    "### **Implementing a Linear model for Activity Prediction**"
   ]
  },
  {
   "cell_type": "code",
   "execution_count": 122,
   "metadata": {},
   "outputs": [
    {
     "name": "stdout",
     "output_type": "stream",
     "text": [
      "Accuracy: 0.798540665598861\n",
      "\n",
      " -------------Classification Report-------------\n",
      "\n",
      "              precision    recall  f1-score   support\n",
      "\n",
      "  Downstairs       0.59      0.65      0.62       576\n",
      "     Jogging       0.81      0.95      0.87      1522\n",
      "     Sitting       0.87      1.00      0.93       361\n",
      "    Standing       0.95      0.81      0.88       323\n",
      "    Upstairs       0.67      0.53      0.59       640\n",
      "     Walking       0.85      0.78      0.81      2197\n",
      "\n",
      "    accuracy                           0.80      5619\n",
      "   macro avg       0.79      0.79      0.78      5619\n",
      "weighted avg       0.80      0.80      0.79      5619\n",
      "\n"
     ]
    }
   ],
   "source": [
    "from sklearn.preprocessing import StandardScaler\n",
    "from sklearn.linear_model import LogisticRegression\n",
    "from sklearn.metrics import accuracy_score\n",
    "from sklearn.metrics import classification_report\n",
    "# standardization\n",
    "scaler = StandardScaler()\n",
    "scaler.fit(X_train)\n",
    "X_train_data_lr = scaler.transform(X_train)\n",
    "X_test_data_lr = scaler.transform(X_test)\n",
    "# logistic regression model\n",
    "lr = LogisticRegression(random_state = 21)\n",
    "lr.fit(X_train_data_lr, y_train)\n",
    "y_pred = lr.predict(X_test_data_lr)\n",
    "print(\"Accuracy:\", accuracy_score(y_test, y_pred))\n",
    "print(\"\\n -------------Classification Report-------------\\n\")\n",
    "print(classification_report(y_test, y_pred))"
   ]
  },
  {
   "cell_type": "markdown",
   "metadata": {},
   "source": [
    "We take a series of signals and aggregate it into windows of data from which to extract new features.\n",
    "The new features will be used for classification of an aggregated windowed signal."
   ]
  }
 ],
 "metadata": {
  "interpreter": {
   "hash": "fb389df0c04a3066bd7c0461c6150370a74839d239c072265f5ca5baee593ef7"
  },
  "kernelspec": {
   "display_name": "Python 3.9.2 ('fpp')",
   "language": "python",
   "name": "python3"
  },
  "language_info": {
   "codemirror_mode": {
    "name": "ipython",
    "version": 3
   },
   "file_extension": ".py",
   "mimetype": "text/x-python",
   "name": "python",
   "nbconvert_exporter": "python",
   "pygments_lexer": "ipython3",
   "version": "3.9.2"
  },
  "orig_nbformat": 4
 },
 "nbformat": 4,
 "nbformat_minor": 2
}
